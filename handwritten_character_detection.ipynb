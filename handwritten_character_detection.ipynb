{
  "nbformat": 4,
  "nbformat_minor": 0,
  "metadata": {
    "colab": {
      "name": "handwritten_character_detection.ipynb",
      "provenance": [],
      "authorship_tag": "ABX9TyPg28OpXOUn4rhZTQhVKb7v",
      "include_colab_link": true
    },
    "kernelspec": {
      "name": "python3",
      "display_name": "Python 3"
    },
    "language_info": {
      "name": "python"
    }
  },
  "cells": [
    {
      "cell_type": "markdown",
      "metadata": {
        "id": "view-in-github",
        "colab_type": "text"
      },
      "source": [
        "<a href=\"https://colab.research.google.com/github/AndreSlavescu/Number-Game/blob/main/handwritten_character_detection.ipynb\" target=\"_parent\"><img src=\"https://colab.research.google.com/assets/colab-badge.svg\" alt=\"Open In Colab\"/></a>"
      ]
    },
    {
      "cell_type": "markdown",
      "metadata": {
        "id": "MoOxpjnVQwbt"
      },
      "source": [
        "#Installations"
      ]
    },
    {
      "cell_type": "code",
      "metadata": {
        "id": "NUqtPXtXQu-S"
      },
      "source": [
        "pip install opencv-python tensorflowjs"
      ],
      "execution_count": null,
      "outputs": []
    },
    {
      "cell_type": "markdown",
      "metadata": {
        "id": "NcJMtHVKN58u"
      },
      "source": [
        "# Initial Setup"
      ]
    },
    {
      "cell_type": "code",
      "metadata": {
        "id": "hkS23A4HIZ-7"
      },
      "source": [
        "import cv2 #OpenCV python computer vision library\n",
        "import numpy as np #numerical python library\n",
        "import matplotlib.pyplot as mplt #mathematical plotting library\n",
        "import tensorflow as tf\n",
        "import tensorflowjs as tfjs \n",
        "from tensorflow import keras"
      ],
      "execution_count": 15,
      "outputs": []
    },
    {
      "cell_type": "markdown",
      "metadata": {
        "id": "BRvUbOLGNHpy"
      },
      "source": [
        "# Dataset\n"
      ]
    },
    {
      "cell_type": "code",
      "metadata": {
        "id": "-9uuEm2uA--G"
      },
      "source": [
        "#Handwritten digits dataset\n",
        "mnist = tf.keras.datasets.mnist\n",
        "(x_train, y_train), (x_test, y_test) = mnist.load_data()\n",
        "\n",
        "x_train = tf.keras.utils.normalize(x_train, axis = 1)\n",
        "x_test = tf.keras.utils.normalize(x_test, axis = 1)"
      ],
      "execution_count": 17,
      "outputs": []
    },
    {
      "cell_type": "markdown",
      "metadata": {
        "id": "SJtP3nXEOTQ2"
      },
      "source": [
        "# Model Creation\n",
        "\n"
      ]
    },
    {
      "cell_type": "code",
      "metadata": {
        "id": "QHgzzJ52NGak"
      },
      "source": [
        "model = tf.keras.models.Sequential()\n",
        "model.add(tf.keras.layers.Flatten(input_shape = (28, 28)))\n",
        "for i in range(2): #generate 2 of the same hidden layers\n",
        "  model.add(tf.keras.layers.Dense(units = 128, activation = tf.nn.relu)) #specify activation function (relu)\n",
        "model.add(tf.keras.layers.Dense(units = 10, activation = tf.nn.softmax))\n"
      ],
      "execution_count": 18,
      "outputs": []
    },
    {
      "cell_type": "markdown",
      "metadata": {
        "id": "u-h4FSTbX-ju"
      },
      "source": [
        "#Model Compilation"
      ]
    },
    {
      "cell_type": "code",
      "metadata": {
        "id": "NxbXk2p7Oi-8"
      },
      "source": [
        "#compiling model using the adam optimizer for stochastic gradient descent \n",
        "model.compile(optimizer = \"adam\", loss = \"sparse_categorical_crossentropy\", metrics = [\"accuracy\"]) \n",
        "model.fit(x_train, y_train, epochs = 5)\n",
        "loss, accuracy = model.evaluate(x_test, y_test)\n",
        "\n",
        "model.save(\"handwritten_digits.model\")"
      ],
      "execution_count": null,
      "outputs": []
    },
    {
      "cell_type": "code",
      "metadata": {
        "id": "DkF4xhrNdPb3",
        "colab": {
          "base_uri": "https://localhost:8080/"
        },
        "outputId": "3f0f271c-670d-4602-f499-0a6a60915d3a"
      },
      "source": [
        "#print(f\"x_test: {x_test}\", f\"y_test: {y_test}\")\n",
        "print(f\"loss: {round(loss, 2)}\", f\"accuracy: {round(accuracy*100, 2)}%\")"
      ],
      "execution_count": 20,
      "outputs": [
        {
          "output_type": "stream",
          "text": [
            "loss: 0.1 accuracy: 97.22%\n"
          ],
          "name": "stdout"
        }
      ]
    },
    {
      "cell_type": "markdown",
      "metadata": {
        "id": "cr5FmVjPbeZS"
      },
      "source": [
        "#Test Images\n",
        "----\n",
        "![Digit-3](https://www.neuralnine.com/wp-content/uploads/2019/09/3.png)\n",
        "###### This digit is 3\n",
        "\n",
        "![Digit-6](https://encrypted-tbn0.gstatic.com/images?q=tbn:ANd9GcS8MVyzJ4_dJZfzzQa1E-IayHNriN4bNUUv2A&usqp=CAU)\n",
        "###### This digit is 6\n",
        "\n",
        "![Digit-4](https://miro.medium.com/max/282/1*xpszL7jJrV5UTV7Xa-fgWQ.png)\n",
        "###### This digit is 4"
      ]
    },
    {
      "cell_type": "code",
      "metadata": {
        "id": "rGdaVZo9bg3I"
      },
      "source": [
        "#load test images and predict the value of the handwritten character\n",
        "\n",
        "for i in range(1,3):\n",
        "  img = cv2.imread(f\"{i}.png\")[:,:,0]\n",
        "  img = np.invert(np.array([img]))\n",
        "  prediction = model.predict(img) #predict image value\n",
        "  print(\"index of highest value: \"+np.argmax(prediction))\n",
        "  plt.imshow(img[0], cmap = plt.cm.binary)\n",
        "  plt.show()"
      ],
      "execution_count": null,
      "outputs": []
    },
    {
      "cell_type": "markdown",
      "metadata": {
        "id": "AsAIVQDQiBsy"
      },
      "source": [
        "# Download model as JSON"
      ]
    },
    {
      "cell_type": "code",
      "metadata": {
        "id": "GdFs0CqXh_ov"
      },
      "source": [
        "# save model as a tensorflow js format\n",
        "tfjs.converters.save_keras_model(model, \"models\")"
      ],
      "execution_count": 22,
      "outputs": []
    }
  ]
}